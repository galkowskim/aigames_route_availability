{
 "cells": [
  {
   "cell_type": "code",
   "execution_count": 1,
   "metadata": {},
   "outputs": [],
   "source": [
    "import pandas as pd\n",
    "from preprocessor.preprocessor import Preprocessor# debil?\n",
    "from preprocessor.dataextracter import DataExtracter\n",
    "from model.model import Model"
   ]
  },
  {
   "cell_type": "code",
   "execution_count": 2,
   "metadata": {},
   "outputs": [],
   "source": [
    "df = pd.read_csv('data/statuses/preprocessed/train_data.csv')"
   ]
  },
  {
   "cell_type": "code",
   "execution_count": 3,
   "outputs": [],
   "source": [
    "###############################################"
   ],
   "metadata": {
    "collapsed": false
   }
  },
  {
   "cell_type": "code",
   "execution_count": 72,
   "metadata": {},
   "outputs": [
    {
     "ename": "AttributeError",
     "evalue": "'Preprocessor' object has no attribute 'preprocess_data'",
     "output_type": "error",
     "traceback": [
      "\u001B[0;31m---------------------------------------------------------------------------\u001B[0m",
      "\u001B[0;31mAttributeError\u001B[0m                            Traceback (most recent call last)",
      "Cell \u001B[0;32mIn [72], line 2\u001B[0m\n\u001B[1;32m      1\u001B[0m preprocessor \u001B[38;5;241m=\u001B[39m Preprocessor(df)\n\u001B[0;32m----> 2\u001B[0m df \u001B[38;5;241m=\u001B[39m \u001B[43mpreprocessor\u001B[49m\u001B[38;5;241;43m.\u001B[39;49m\u001B[43mpreprocess_data\u001B[49m()\n",
      "\u001B[0;31mAttributeError\u001B[0m: 'Preprocessor' object has no attribute 'preprocess_data'"
     ]
    }
   ],
   "source": [
    "preprocessor = Preprocessor(df)\n",
    "df = preprocessor.preprocess_data()"
   ]
  },
  {
   "cell_type": "code",
   "execution_count": 4,
   "metadata": {},
   "outputs": [],
   "source": [
    "model = Model()"
   ]
  },
  {
   "cell_type": "code",
   "execution_count": 5,
   "metadata": {},
   "outputs": [],
   "source": [
    "y = df['status']\n",
    "X = df.drop(['status'], axis=1)\n",
    "model.train(X, y)"
   ]
  },
  {
   "cell_type": "code",
   "execution_count": 6,
   "metadata": {},
   "outputs": [],
   "source": [
    "val = pd.read_csv('data/testdata/val_data.csv')"
   ]
  },
  {
   "cell_type": "code",
   "execution_count": 7,
   "metadata": {},
   "outputs": [],
   "source": [
    "preprocessor2 = Preprocessor(val)\n",
    "val = preprocessor2.preprocess_data()"
   ]
  },
  {
   "cell_type": "code",
   "execution_count": 8,
   "metadata": {},
   "outputs": [
    {
     "name": "stdout",
     "output_type": "stream",
     "text": [
      "f1_score: 0.9021823247175361\n"
     ]
    },
    {
     "data": {
      "text/plain": [
       "0.9021823247175361"
      ]
     },
     "execution_count": 8,
     "metadata": {},
     "output_type": "execute_result"
    }
   ],
   "source": [
    "y_val = val['status']\n",
    "X_val = val.drop(['status'], axis=1)\n",
    "X_val = model.onehot(X_val)\n",
    "y_pred = model.predict(X_val)\n",
    "model.calculate_f1(y_pred, y_val)"
   ]
  },
  {
   "cell_type": "code",
   "execution_count": 4,
   "outputs": [],
   "source": [
    "####################3333"
   ],
   "metadata": {
    "collapsed": false
   }
  },
  {
   "cell_type": "code",
   "execution_count": 5,
   "metadata": {},
   "outputs": [],
   "source": [
    "dataex = DataExtracter()"
   ]
  },
  {
   "cell_type": "code",
   "execution_count": 6,
   "metadata": {},
   "outputs": [],
   "source": [
    "train = dataex.train()"
   ]
  },
  {
   "cell_type": "code",
   "execution_count": 7,
   "metadata": {},
   "outputs": [],
   "source": [
    "test = dataex.test()"
   ]
  },
  {
   "cell_type": "code",
   "execution_count": 8,
   "metadata": {},
   "outputs": [],
   "source": [
    "obs = test['observation_id']"
   ]
  },
  {
   "cell_type": "code",
   "execution_count": 9,
   "metadata": {},
   "outputs": [],
   "source": [
    "preprocessor = Preprocessor(train)\n",
    "train = preprocessor.preprocess_train()"
   ]
  },
  {
   "cell_type": "code",
   "execution_count": 10,
   "metadata": {},
   "outputs": [],
   "source": [
    "preprocessor = Preprocessor(test)\n",
    "test = preprocessor.preprocess_test()"
   ]
  },
  {
   "cell_type": "code",
   "execution_count": 11,
   "metadata": {},
   "outputs": [
    {
     "data": {
      "text/plain": "Index(['status', 'airport', 'route_type', 'timestamp_hour', 'distance',\n       'no_of_waypoints', 'dayoftheweek', 'north', 'west', 'timestamp_month',\n       'timestamp_day'],\n      dtype='object')"
     },
     "execution_count": 11,
     "metadata": {},
     "output_type": "execute_result"
    }
   ],
   "source": [
    "train.columns"
   ]
  },
  {
   "cell_type": "code",
   "execution_count": 12,
   "metadata": {},
   "outputs": [
    {
     "name": "stdout",
     "output_type": "stream",
     "text": [
      "Index(['airport_KDFW', 'airport_KIAH', 'airport_KSEA', 'route_type',\n",
      "       'timestamp_hour', 'distance', 'no_of_waypoints', 'dayoftheweek',\n",
      "       'north', 'west', 'timestamp_month', 'timestamp_day'],\n",
      "      dtype='object')\n",
      "12\n"
     ]
    }
   ],
   "source": [
    "model = Model()\n",
    "y = train['status']\n",
    "X = train.drop(['status'], axis=1)\n",
    "model.train(X, y)"
   ]
  },
  {
   "cell_type": "code",
   "execution_count": 13,
   "outputs": [
    {
     "data": {
      "text/plain": "Index(['observation_id', 'airport', 'route_type', 'timestamp_hour', 'distance',\n       'no_of_waypoints', 'dayoftheweek', 'north', 'west', 'timestamp_month',\n       'timestamp_day'],\n      dtype='object')"
     },
     "execution_count": 13,
     "metadata": {},
     "output_type": "execute_result"
    }
   ],
   "source": [
    "test.columns"
   ],
   "metadata": {
    "collapsed": false
   }
  },
  {
   "cell_type": "code",
   "execution_count": 14,
   "metadata": {},
   "outputs": [
    {
     "name": "stdout",
     "output_type": "stream",
     "text": [
      "0       0\n",
      "1       0\n",
      "2       0\n",
      "3       1\n",
      "4       0\n",
      "       ..\n",
      "3721    1\n",
      "3722    1\n",
      "3723    1\n",
      "3724    0\n",
      "3725    1\n",
      "Length: 3726, dtype: int64\n"
     ]
    },
    {
     "name": "stderr",
     "output_type": "stream",
     "text": [
      "/home/galkowskim/Desktop/aigames_route_availability/model/model.py:36: SettingWithCopyWarning: \n",
      "A value is trying to be set on a copy of a slice from a DataFrame.\n",
      "Try using .loc[row_indexer,col_indexer] = value instead\n",
      "\n",
      "See the caveats in the documentation: https://pandas.pydata.org/pandas-docs/stable/user_guide/indexing.html#returning-a-view-versus-a-copy\n",
      "  obs['results'] = results\n"
     ]
    }
   ],
   "source": [
    "test = model.onehot(test)\n",
    "pred = model.predict(test)"
   ]
  },
  {
   "cell_type": "code",
   "execution_count": 15,
   "metadata": {},
   "outputs": [
    {
     "data": {
      "text/plain": "      observation_id  results\n0               1641        0\n1               1889        0\n2               2025        0\n3               3339        1\n4               3750        0\n...              ...      ...\n3721           68894        1\n3722           68895        1\n3723           68903        1\n3724           68905        0\n3725           68912        1\n\n[3726 rows x 2 columns]",
      "text/html": "<div>\n<style scoped>\n    .dataframe tbody tr th:only-of-type {\n        vertical-align: middle;\n    }\n\n    .dataframe tbody tr th {\n        vertical-align: top;\n    }\n\n    .dataframe thead th {\n        text-align: right;\n    }\n</style>\n<table border=\"1\" class=\"dataframe\">\n  <thead>\n    <tr style=\"text-align: right;\">\n      <th></th>\n      <th>observation_id</th>\n      <th>results</th>\n    </tr>\n  </thead>\n  <tbody>\n    <tr>\n      <th>0</th>\n      <td>1641</td>\n      <td>0</td>\n    </tr>\n    <tr>\n      <th>1</th>\n      <td>1889</td>\n      <td>0</td>\n    </tr>\n    <tr>\n      <th>2</th>\n      <td>2025</td>\n      <td>0</td>\n    </tr>\n    <tr>\n      <th>3</th>\n      <td>3339</td>\n      <td>1</td>\n    </tr>\n    <tr>\n      <th>4</th>\n      <td>3750</td>\n      <td>0</td>\n    </tr>\n    <tr>\n      <th>...</th>\n      <td>...</td>\n      <td>...</td>\n    </tr>\n    <tr>\n      <th>3721</th>\n      <td>68894</td>\n      <td>1</td>\n    </tr>\n    <tr>\n      <th>3722</th>\n      <td>68895</td>\n      <td>1</td>\n    </tr>\n    <tr>\n      <th>3723</th>\n      <td>68903</td>\n      <td>1</td>\n    </tr>\n    <tr>\n      <th>3724</th>\n      <td>68905</td>\n      <td>0</td>\n    </tr>\n    <tr>\n      <th>3725</th>\n      <td>68912</td>\n      <td>1</td>\n    </tr>\n  </tbody>\n</table>\n<p>3726 rows × 2 columns</p>\n</div>"
     },
     "execution_count": 15,
     "metadata": {},
     "output_type": "execute_result"
    }
   ],
   "source": [
    "pred"
   ]
  },
  {
   "cell_type": "code",
   "execution_count": 64,
   "metadata": {},
   "outputs": [],
   "source": [
    "df = pd.DataFrame([obs, pred]).T"
   ]
  },
  {
   "cell_type": "code",
   "execution_count": 65,
   "metadata": {},
   "outputs": [],
   "source": [
    "df.columns = ['observation_id', 'status']"
   ]
  },
  {
   "cell_type": "code",
   "execution_count": 66,
   "metadata": {},
   "outputs": [],
   "source": [
    "# map status to OPEN / CLSD\n",
    "df['status'] = df['status'].map({1: 'OPEN', 0: 'CLSD'})"
   ]
  },
  {
   "cell_type": "code",
   "execution_count": 67,
   "metadata": {},
   "outputs": [],
   "source": [
    "# remove duplicates\n",
    "p = df.drop_duplicates(subset=['observation_id'])"
   ]
  },
  {
   "cell_type": "code",
   "execution_count": 68,
   "metadata": {},
   "outputs": [
    {
     "data": {
      "text/plain": "      observation_id status\n0               1641   CLSD\n1               1889   CLSD\n2               2025   CLSD\n3               3339   OPEN\n4               3750   CLSD\n...              ...    ...\n3721           68894   OPEN\n3722           68895   CLSD\n3723           68903   OPEN\n3724           68905   CLSD\n3725           68912   OPEN\n\n[3641 rows x 2 columns]",
      "text/html": "<div>\n<style scoped>\n    .dataframe tbody tr th:only-of-type {\n        vertical-align: middle;\n    }\n\n    .dataframe tbody tr th {\n        vertical-align: top;\n    }\n\n    .dataframe thead th {\n        text-align: right;\n    }\n</style>\n<table border=\"1\" class=\"dataframe\">\n  <thead>\n    <tr style=\"text-align: right;\">\n      <th></th>\n      <th>observation_id</th>\n      <th>status</th>\n    </tr>\n  </thead>\n  <tbody>\n    <tr>\n      <th>0</th>\n      <td>1641</td>\n      <td>CLSD</td>\n    </tr>\n    <tr>\n      <th>1</th>\n      <td>1889</td>\n      <td>CLSD</td>\n    </tr>\n    <tr>\n      <th>2</th>\n      <td>2025</td>\n      <td>CLSD</td>\n    </tr>\n    <tr>\n      <th>3</th>\n      <td>3339</td>\n      <td>OPEN</td>\n    </tr>\n    <tr>\n      <th>4</th>\n      <td>3750</td>\n      <td>CLSD</td>\n    </tr>\n    <tr>\n      <th>...</th>\n      <td>...</td>\n      <td>...</td>\n    </tr>\n    <tr>\n      <th>3721</th>\n      <td>68894</td>\n      <td>OPEN</td>\n    </tr>\n    <tr>\n      <th>3722</th>\n      <td>68895</td>\n      <td>CLSD</td>\n    </tr>\n    <tr>\n      <th>3723</th>\n      <td>68903</td>\n      <td>OPEN</td>\n    </tr>\n    <tr>\n      <th>3724</th>\n      <td>68905</td>\n      <td>CLSD</td>\n    </tr>\n    <tr>\n      <th>3725</th>\n      <td>68912</td>\n      <td>OPEN</td>\n    </tr>\n  </tbody>\n</table>\n<p>3641 rows × 2 columns</p>\n</div>"
     },
     "execution_count": 68,
     "metadata": {},
     "output_type": "execute_result"
    }
   ],
   "source": [
    "p"
   ]
  },
  {
   "cell_type": "code",
   "execution_count": 21,
   "metadata": {},
   "outputs": [],
   "source": [
    "p.to_csv('siema.csv', index=False)"
   ]
  },
  {
   "cell_type": "code",
   "execution_count": 16,
   "metadata": {},
   "outputs": [],
   "source": [
    "import pickle\n",
    "\n",
    "filename = 'finalized_model.sav'\n",
    "pickle.dump(model, open(filename, 'wb'))"
   ]
  },
  {
   "cell_type": "code",
   "execution_count": 17,
   "outputs": [],
   "source": [
    "loaded_model = pickle.load(open(filename, 'rb'))"
   ],
   "metadata": {
    "collapsed": false
   }
  },
  {
   "cell_type": "code",
   "execution_count": 18,
   "outputs": [
    {
     "data": {
      "text/plain": "<model.model.Model at 0x7f2a5dcc95a0>"
     },
     "execution_count": 18,
     "metadata": {},
     "output_type": "execute_result"
    }
   ],
   "source": [
    "loaded_model"
   ],
   "metadata": {
    "collapsed": false
   }
  }
 ],
 "metadata": {
  "kernelspec": {
   "display_name": "Python 3.10.4 64-bit",
   "language": "python",
   "name": "python3"
  },
  "language_info": {
   "codemirror_mode": {
    "name": "ipython",
    "version": 3
   },
   "file_extension": ".py",
   "mimetype": "text/x-python",
   "name": "python",
   "nbconvert_exporter": "python",
   "pygments_lexer": "ipython3",
   "version": "3.10.4"
  },
  "orig_nbformat": 4,
  "vscode": {
   "interpreter": {
    "hash": "e7370f93d1d0cde622a1f8e1c04877d8463912d04d973331ad4851f04de6915a"
   }
  }
 },
 "nbformat": 4,
 "nbformat_minor": 2
}
